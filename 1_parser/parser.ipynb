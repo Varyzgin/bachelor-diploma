{
 "cells": [
  {
   "cell_type": "code",
   "execution_count": 13,
   "metadata": {},
   "outputs": [],
   "source": [
    "import requests\n",
    "import pandas\n",
    "import numpy as np\n",
    "from tqdm import tqdm\n",
    "from bs4 import BeautifulSoup as bs\n",
    "import sqlite3\n",
    "import re\n",
    "from datetime import date"
   ]
  },
  {
   "cell_type": "code",
   "execution_count": 14,
   "metadata": {},
   "outputs": [],
   "source": [
    "GLOBAL_PART = 'https://www.gipernn.ru/'\n",
    "\n",
    "BUSINES_CENTRE_PART = 'biznes-centry/'\n",
    "RETAIL_CENTRE_PART = 'torgovye-centry/'\n",
    "\n",
    "FIFTY_ON_PAGE_PART = '?per-page=50'\n",
    "\n",
    "all_links = []"
   ]
  },
  {
   "cell_type": "code",
   "execution_count": 15,
   "metadata": {},
   "outputs": [],
   "source": [
    "def get_coordinates(city, district, address):\n",
    "    url = 'http://127.0.0.1:5000/get_coordinates'\n",
    "    data = {'city': city, 'district': district, 'address': address}\n",
    "    response = requests.post(url, json=data)\n",
    "    \n",
    "    if response.status_code == 200:\n",
    "        return response.json().get('coordinates')\n",
    "    else:\n",
    "        return response.json().get('error')"
   ]
  },
  {
   "cell_type": "code",
   "execution_count": 16,
   "metadata": {},
   "outputs": [],
   "source": [
    "def page_counter(LINK):\n",
    "    html = requests.get(LINK)\n",
    "    soup = bs(html.text, 'html.parser')\n",
    "    count = soup.find('div', class_='count')\n",
    "\n",
    "    count = int(count.text.split(':')[1].strip())\n",
    "    page_count = int(np.ceil(count / 50))\n",
    "\n",
    "    print(count)\n",
    "    \n",
    "    return page_count"
   ]
  },
  {
   "cell_type": "code",
   "execution_count": 17,
   "metadata": {},
   "outputs": [],
   "source": [
    "def links_arr(LINK, page_count):\n",
    "    links = []\n",
    "    for page in tqdm(range(page_count + 1), ascii=True):\n",
    "        html = requests.get(f\"{LINK}&page={page}\")\n",
    "        soup = bs(html.text, 'html.parser')\n",
    "        trs = soup.find('tbody').find_all('tr')\n",
    "        for tr in trs:\n",
    "            link = tr.find('a')\n",
    "            if link:\n",
    "                link = GLOBAL_PART[:-1] + link.get('href')\n",
    "                if(link not in all_links):\n",
    "                    links.append(link)\n",
    "        links = list(set(links))  \n",
    "    print(len(links))  \n",
    "    return links"
   ]
  },
  {
   "cell_type": "code",
   "execution_count": 18,
   "metadata": {},
   "outputs": [],
   "source": [
    "def kvartir_w2(key, val, tmp):\n",
    "    if key == 'Район': return\n",
    "    elif key == 'Адрес': \n",
    "        try: \n",
    "            replacements = {\n",
    "                'ул. ': '',\n",
    "                'д.\\xa0': '',\n",
    "                '\\xa0': ' ',\n",
    "                'д.': '',\n",
    "                ',': '',\n",
    "                'б-р': 'бульвар',\n",
    "                'просп.': 'проспект',\n",
    "                'пер.': 'переулок',\n",
    "                'пос.': 'посёлок',\n",
    "                'ш.': 'шоссе',\n",
    "                '  ': ' ',\n",
    "                '-я': ''\n",
    "            }\n",
    "            for old, new in replacements.items():\n",
    "                val = val.replace(old, new)\n",
    "\n",
    "            # Регулярные выражения и замены\n",
    "            regex_replacements = [\n",
    "                (r'\\bмкр\\.\\s*(\\d+)-й\\s*(\\d+)\\b', r'\\1 микрорайон \\2'),  # 'мкр. <число>-й <число>'\n",
    "                (r'\\bмкр\\.\\s*([\\w\\s]+)\\s*(\\d+)-й\\s*(\\d+)\\b', r'\\2 микрорайон \\1 \\3')  # 'мкр. <район> <число>-й <число>'\n",
    "            ]\n",
    "            if 'мкр.' in val:\n",
    "                for pattern, repl in regex_replacements:\n",
    "                    try: val = re.sub(pattern, repl, val)\n",
    "                    except: pass\n",
    "            tmp[key] = val\n",
    "        except: \n",
    "            pass\n",
    "        link = f\"https://nominatim.openstreetmap.org/search.php?q={tmp['Город'].replace(' ', '+')}+{tmp[key].replace(' ', '+')}&format=jsonv2\"\n",
    "        # Отправка запроса с заголовком User-Agent\n",
    "        headers = {'User-Agent': 'Mozilla/5.0 (Windows NT 10.0; Win64; x64) AppleWebKit/537.36 (KHTML, like Gecko) Chrome/58.0.3029.110 Safari/537.3'}\n",
    "        \n",
    "        response = requests.get(link, headers=headers)\n",
    "        \n",
    "        if response.status_code == 200:\n",
    "            # Парсинг JSON-ответа\n",
    "            data_json = response.json()\n",
    "            \n",
    "            # Обработка данных из JSON-ответа\n",
    "            if data_json:\n",
    "                # Пример получения широты и долготы\n",
    "                tmp['Широта'] = data_json[0]['lat']\n",
    "                tmp['Долгота'] = data_json[0]['lon']\n",
    "            else:\n",
    "                print(f'Cords error: {tmp['Ссылка']}')\n",
    "                coords = get_coordinates(tmp['Город'], tmp['Район'], tmp[key])\n",
    "                if 'error' in coords:\n",
    "                    print(f\"Error: {coords}\")\n",
    "                else:\n",
    "                    try:\n",
    "                        tmp['Широта'] = coords.split(',')[0]\n",
    "                        tmp['Долгота'] = coords.split(',')[1]\n",
    "                    except:\n",
    "                        pass\n",
    "                            # print(f\"Coordinates: {coords}\")\n",
    "    elif key == 'Высота потолков':\n",
    "        val = val.split(' м')[0].replace(',', '.')\n",
    "        try:\n",
    "            tmp[key] = float(val)\n",
    "        except:\n",
    "            tmp[key] = float(val.split('. ')[-1])\n",
    "    elif key == 'Средняя цена за м2':\n",
    "        tmp[key] = int(val.replace('\\xa0', '').split('р')[0])\n",
    "    elif key == 'Технический план': return\n",
    "    elif key == 'Год постройки': \n",
    "        try:\n",
    "            tmp[key] = int(val)\n",
    "        except:\n",
    "            tmp[key] = int(val.split(',')[0])\n",
    "    elif key == 'Этажность': \n",
    "        tmp[key] = int(val)\n",
    "    elif key == 'Подъездов': \n",
    "        tmp[key] = int(val)\n",
    "    elif key == 'Квартир': \n",
    "        tmp[key] = int(val)\n",
    "    else: tmp[key] = val"
   ]
  },
  {
   "cell_type": "code",
   "execution_count": 19,
   "metadata": {},
   "outputs": [],
   "source": [
    "def individual_w0(key, val, tmp):\n",
    "    if key == 'Комнат':\n",
    "        if val == 'студия': tmp[key] = 0\n",
    "        else: tmp[key] = int(val.split(' ')[0])\n",
    "    elif key == 'Этаж / этажность':\n",
    "        tmp['Этаж'] = int(val.replace(' ', '').replace(',', '.').split('/')[0])\n",
    "    elif key == 'Высота потолков':\n",
    "        val = val.split(' м')[0].replace(',', '.')\n",
    "        try:\n",
    "            tmp[key] = float(val)\n",
    "        except:\n",
    "            tmp[key] = float(val.split('. ')[-1])\n",
    "    elif key == 'Площадь':\n",
    "        val = val.replace(' ', '').replace(',', '.').split('/')\n",
    "        tmp['Общая площадь'] = float(val[0])\n",
    "        if len(val) > 1: tmp['Жилая площадь'] = float(val[1])\n",
    "        if len(val) > 2: tmp['Площадь кухни'] = float(val[2])\n",
    "    elif key == 'Площадь участка':\n",
    "        tmp[key] = float(val.replace(' ', '').split('с')[0])\n",
    "    elif key == 'Количество этажей':\n",
    "        tmp['Этажность'] = int(val)\n",
    "    elif key == 'Год постройки дома':\n",
    "        kvartir_w2('Год постройки', val, tmp)\n",
    "    else: tmp[key] = val"
   ]
  },
  {
   "cell_type": "code",
   "execution_count": 20,
   "metadata": {},
   "outputs": [],
   "source": [
    "def commertial_w0(key, val, tmp):\n",
    "    if key == 'Комнат':\n",
    "        if val == 'студия': tmp[key] = 0\n",
    "        else: tmp[key] = int(val.split(' ')[0])\n",
    "    elif key == 'Этаж / этажность':\n",
    "        val = val.replace(' ', '').split('/')\n",
    "        tmp['Этаж'] = int(val[0])\n",
    "        if val[1]: tmp['Этажность'] = int(val[1])\n",
    "    elif key == 'Количество этажей':\n",
    "        tmp['Этажность'] = int(val)\n",
    "    elif key == 'Высота потолков':\n",
    "        val = val.split(' м')[0].replace(',', '.')\n",
    "        try:\n",
    "            tmp[key] = float(val)\n",
    "        except:\n",
    "            tmp[key] = float(val.split('. ')[-1])\n",
    "    elif key == 'Площадь':\n",
    "        tmp[key] = float(val.replace(' ', '').replace(',', '.').split('м')[0])\n",
    "    elif key == 'Площадь участка':\n",
    "        tmp[key] = float(val.replace(' ', '').replace(',', '.').split('с')[0])\n",
    "    elif key == 'Общая площадь':\n",
    "        tmp[key] = float(val.replace(' ', '').replace(',', '.').split('м')[0])\n",
    "    elif key == 'Площадь земельного участка':\n",
    "        tmp[key] = float(val.replace(' ', '').replace(',', '.').split('га')[0])\n",
    "    elif key == 'Общая площадь зданий':\n",
    "        tmp[key] = float(val.replace(' ', '').replace(',', '.').split('м')[0])\n",
    "    elif key == 'Отдельный вход':\n",
    "        tmp[key] = val.replace({'есть':1, 'да':1, 'нет':0})\n",
    "    else: tmp[key] = val.replace('\\xa0', '')"
   ]
  },
  {
   "cell_type": "code",
   "execution_count": 21,
   "metadata": {},
   "outputs": [],
   "source": [
    "def parse(links, deal, tip):\n",
    "    df = pandas.DataFrame()\n",
    "\n",
    "    match tip:\n",
    "        case 'kvartir':\n",
    "            def w2_parse(): kvartir_w2(key, val, tmp)\n",
    "            def w0_parse(): individual_w0(key, val, tmp)\n",
    "            def segment(): tmp['Сегмент'] = \"Жилая недвижимость\"\n",
    "        case 'domov':\n",
    "            def w2_parse(): return\n",
    "            def w0_parse(): individual_w0(key, val, tmp)\n",
    "            def segment(): tmp['Сегмент'] = \"Жилая недвижимость\"\n",
    "        case 'ofisov':\n",
    "            def w2_parse(): return\n",
    "            def w0_parse(): commertial_w0(key, val, tmp)\n",
    "            def segment(): tmp['Сегмент'] = \"Комерческая недвижимость\"\n",
    "        case 'skladov':\n",
    "            def w2_parse(): return\n",
    "            def w0_parse(): commertial_w0(key, val, tmp)\n",
    "            def segment(): tmp['Сегмент'] = \"Комерческая недвижимость\"\n",
    "        case 'proizvodstvennyh-ploschadey':\n",
    "            def w2_parse(): return\n",
    "            def w0_parse(): commertial_w0(key, val, tmp)\n",
    "            def segment(): tmp['Сегмент'] = \"Комерческая недвижимость\"\n",
    "        case 'pomescheniy':\n",
    "            def w2_parse(): return\n",
    "            def w0_parse(): commertial_w0(key, val, tmp)\n",
    "            def segment(): tmp['Сегмент'] = \"Комерческая недвижимость\"\n",
    "\n",
    "    for link in tqdm(links, ascii=True):\n",
    "        html = requests.get(link)\n",
    "        soup = bs(html.text, 'html.parser')\n",
    "        tmp = {} # словарь для временных данных\n",
    "\n",
    "        tmp['Ссылка'] = link\n",
    "\n",
    "        header = soup.find('h1')\n",
    "        if header:\n",
    "            location = header.text.replace(header.next, '')\n",
    "            header = header.text.strip().replace(location, '').replace('\\xa0', ' ')\n",
    "        tmp['Заголовок'] = header\n",
    "\n",
    "        segment()\n",
    "        try:\n",
    "            t = header.split('на')[0]\n",
    "            tmp['Подсегмент'] = t.split(' ', 1)[1]\n",
    "            tmp['Тип сделки'] = t.split(' ', 1)[0]\n",
    "        except: \n",
    "            try:\n",
    "                t = header.split('в')[0]\n",
    "                tmp['Подсегмент'] = t.split(' ', 1)[1]\n",
    "                tmp['Тип сделки'] = t.split(' ', 1)[0]\n",
    "            except: pass\n",
    "\n",
    "        price = soup.find('div', class_ = 'price')\n",
    "        if price:\n",
    "            price = price.text.replace('\\xa0', '')\n",
    "            price = int(price.strip().split('р')[0])\n",
    "        tmp['Цена'] = price\n",
    "\n",
    "        description = soup.find('div', class_='formatted-text')\n",
    "        if description:\n",
    "            description = description.text.strip().replace('\\xa0', ' ')\n",
    "        tmp['Описание'] = description\n",
    "\n",
    "        location = location.split(', ')\n",
    "        tmp['Город'] = location[1]\n",
    "        tmp['Район'] = location[0].replace(' район', '')\n",
    "\n",
    "        try:\n",
    "            w2 = soup.find('table', id = 'w2')\n",
    "            if w2:\n",
    "                w2 = w2.find_all('tr')\n",
    "                for tr in w2:\n",
    "                    key = tr.find('th').text.strip()\n",
    "                    val = tr.find('td').text.strip()\n",
    "                    if val == 'Уточнить': tmp[key] = ''\n",
    "                    else: w2_parse()\n",
    "        except:\n",
    "            print(f'w2 PROBLEM: {link}')        \n",
    "        \n",
    "        try:\n",
    "            w0 = soup.find('table', id = 'w0')\n",
    "            if w0:\n",
    "                w0 = w0.find_all('tr')\n",
    "                for tr in w0:\n",
    "                    key = tr.find('th').text.strip()\n",
    "                    val = tr.find('td').text.strip()\n",
    "                    if val == 'Уточнить': tmp[key] = np.nan\n",
    "                    else:\n",
    "                        if key not in tmp.keys(): # записи в 2х таблицах могут \n",
    "                            w0_parse() # пересекаться, а зачем нам копии?\n",
    "        except: \n",
    "            print(f'w0 PROBLEM: {link}')   \n",
    "\n",
    "        try:\n",
    "            properties = soup.find('div', class_ = 'properties m-t-2')\n",
    "            if properties:\n",
    "                properties = properties.find_all('div', class_ = 'property')\n",
    "                for property in properties:\n",
    "                    key = property.find('div', class_ = 'property-name').text.strip()\n",
    "                    val = property.find('div', class_ = 'property-value').text.strip()\n",
    "                    if key not in tmp.keys(): # записи в 2х таблицах могут пересекаться, а зачем нам копии?\n",
    "                        if val == 'есть' or val == 'да': tmp[key] = 1\n",
    "                        elif val == 'нет': tmp[key] = 0\n",
    "                        else: tmp[key] = val\n",
    "        except: \n",
    "            print(f'props PROBLEM: {link}')   \n",
    "    \n",
    "        try:\n",
    "            buildings = soup.find('div', 'around').find_all('div', 'group')\n",
    "            for building in buildings:\n",
    "                name = building.find('div','group-body').find('span').text\n",
    "                building = building.find('div','group-body').find('div', 'company')\n",
    "                dist = building.find('span', 'company__distance').text.split('м')[0]\n",
    "                if dist == \"в здании\":\n",
    "                    tmp[name + '(расстояние в метрах)'] = 0\n",
    "                else: tmp[name + '(расстояние в метрах)'] = dist \n",
    "        except: \n",
    "            pass\n",
    "\n",
    "        df = pandas.concat([df, pandas.DataFrame(tmp, index=(range(1)))], ignore_index=True)\n",
    "        df['Источник'] = 'gipernn'\n",
    "        df['Дата парсинга'] = str(date.today())\n",
    "         \n",
    "    return df"
   ]
  },
  {
   "cell_type": "code",
   "execution_count": 22,
   "metadata": {},
   "outputs": [],
   "source": [
    "dataframe = pandas.DataFrame()"
   ]
  },
  {
   "cell_type": "code",
   "execution_count": 23,
   "metadata": {},
   "outputs": [],
   "source": [
    "deal = 'prodazha'\n",
    "tip = 'kvartir'\n",
    "LINK = GLOBAL_PART + deal + '-' + tip + FIFTY_ON_PAGE_PART"
   ]
  },
  {
   "cell_type": "code",
   "execution_count": 24,
   "metadata": {},
   "outputs": [
    {
     "name": "stdout",
     "output_type": "stream",
     "text": [
      "4536\n"
     ]
    }
   ],
   "source": [
    "page_count = page_counter(LINK)"
   ]
  },
  {
   "cell_type": "code",
   "execution_count": 25,
   "metadata": {},
   "outputs": [
    {
     "name": "stderr",
     "output_type": "stream",
     "text": [
      "  0%|          | 0/92 [00:00<?, ?it/s]"
     ]
    },
    {
     "name": "stderr",
     "output_type": "stream",
     "text": [
      " 79%|#######9  | 73/92 [00:32<00:11,  1.72it/s]"
     ]
    }
   ],
   "source": [
    "links = links_arr(LINK, page_count)\n",
    "all_links += links"
   ]
  },
  {
   "cell_type": "code",
   "execution_count": null,
   "metadata": {},
   "outputs": [
    {
     "name": "stderr",
     "output_type": "stream",
     "text": [
      "  0%|          | 1/4049 [01:04<72:57:36, 64.89s/it]"
     ]
    },
    {
     "name": "stdout",
     "output_type": "stream",
     "text": [
      "w2 PROBLEM: https://www.gipernn.ru/prodazha-kvartir/1-komnatnaya-ul-novokuznechihinskaya-d-7-id2923228\n"
     ]
    },
    {
     "name": "stderr",
     "output_type": "stream",
     "text": [
      "  0%|          | 2/4049 [01:05<30:27:29, 27.09s/it]"
     ]
    },
    {
     "name": "stdout",
     "output_type": "stream",
     "text": [
      "w2 PROBLEM: https://www.gipernn.ru/prodazha-kvartir/1-komnatnaya-ul-proletarskaya-d-4-k1-id2916559\n"
     ]
    },
    {
     "name": "stderr",
     "output_type": "stream",
     "text": [
      "  0%|          | 3/4049 [01:05<16:44:58, 14.90s/it]"
     ]
    },
    {
     "name": "stdout",
     "output_type": "stream",
     "text": [
      "w2 PROBLEM: https://www.gipernn.ru/prodazha-kvartir/2-komnatnaya-per-bakinskiy-d-8-id2915985\n"
     ]
    },
    {
     "name": "stderr",
     "output_type": "stream",
     "text": [
      "  0%|          | 4/4049 [01:06<10:17:04,  9.15s/it]"
     ]
    },
    {
     "name": "stdout",
     "output_type": "stream",
     "text": [
      "w2 PROBLEM: https://www.gipernn.ru/prodazha-kvartir/1-komnatnaya-ul-burnakovskaya-d-83-id2923090\n"
     ]
    },
    {
     "name": "stderr",
     "output_type": "stream",
     "text": [
      "  0%|          | 5/4049 [01:06<6:44:23,  6.00s/it] "
     ]
    },
    {
     "name": "stdout",
     "output_type": "stream",
     "text": [
      "w2 PROBLEM: https://www.gipernn.ru/prodazha-kvartir/3-komnatnaya-ul-vasileva-d-1-id2919189\n"
     ]
    },
    {
     "name": "stderr",
     "output_type": "stream",
     "text": [
      "  0%|          | 6/4049 [01:07<4:36:04,  4.10s/it]"
     ]
    },
    {
     "name": "stdout",
     "output_type": "stream",
     "text": [
      "w2 PROBLEM: https://www.gipernn.ru/prodazha-kvartir/kvartira-studiya-ul-yanki-kupaly-d-16a-id2922982\n"
     ]
    },
    {
     "name": "stderr",
     "output_type": "stream",
     "text": [
      "  0%|          | 7/4049 [01:07<3:13:18,  2.87s/it]"
     ]
    },
    {
     "name": "stdout",
     "output_type": "stream",
     "text": [
      "w2 PROBLEM: https://www.gipernn.ru/prodazha-kvartir/kvartira-studiya-ul-sputnika-d-40-id2920843\n"
     ]
    },
    {
     "name": "stderr",
     "output_type": "stream",
     "text": [
      "  0%|          | 8/4049 [01:07<9:32:19,  8.50s/it]"
     ]
    },
    {
     "name": "stdout",
     "output_type": "stream",
     "text": [
      "w2 PROBLEM: https://www.gipernn.ru/prodazha-kvartir/2-komnatnaya-ul-karla-marksa-d-16-id2909923\n"
     ]
    },
    {
     "name": "stderr",
     "output_type": "stream",
     "text": [
      "\n"
     ]
    },
    {
     "ename": "KeyboardInterrupt",
     "evalue": "",
     "output_type": "error",
     "traceback": [
      "\u001b[0;31m---------------------------------------------------------------------------\u001b[0m",
      "\u001b[0;31mKeyboardInterrupt\u001b[0m                         Traceback (most recent call last)",
      "Cell \u001b[0;32mIn[30], line 1\u001b[0m\n\u001b[0;32m----> 1\u001b[0m tmp_df \u001b[38;5;241m=\u001b[39m \u001b[43mparse\u001b[49m\u001b[43m(\u001b[49m\u001b[43mlinks\u001b[49m\u001b[43m,\u001b[49m\u001b[43m \u001b[49m\u001b[43mdeal\u001b[49m\u001b[43m,\u001b[49m\u001b[43m \u001b[49m\u001b[43mtip\u001b[49m\u001b[43m)\u001b[49m\n\u001b[1;32m      2\u001b[0m dataframe \u001b[38;5;241m=\u001b[39m pandas\u001b[38;5;241m.\u001b[39mconcat([dataframe, tmp_df], axis\u001b[38;5;241m=\u001b[39m\u001b[38;5;241m0\u001b[39m)\n\u001b[1;32m      3\u001b[0m conn \u001b[38;5;241m=\u001b[39m sqlite3\u001b[38;5;241m.\u001b[39mconnect(\u001b[38;5;124mf\u001b[39m\u001b[38;5;124m'\u001b[39m\u001b[38;5;124mDF_\u001b[39m\u001b[38;5;132;01m{\u001b[39;00mdate\u001b[38;5;241m.\u001b[39mtoday()\u001b[38;5;132;01m}\u001b[39;00m\u001b[38;5;124m.db\u001b[39m\u001b[38;5;124m'\u001b[39m)\n",
      "Cell \u001b[0;32mIn[24], line 31\u001b[0m, in \u001b[0;36mparse\u001b[0;34m(links, deal, tip)\u001b[0m\n\u001b[1;32m     28\u001b[0m         \u001b[38;5;28;01mdef\u001b[39;00m \u001b[38;5;21msegment\u001b[39m(): tmp[\u001b[38;5;124m'\u001b[39m\u001b[38;5;124mСегмент\u001b[39m\u001b[38;5;124m'\u001b[39m] \u001b[38;5;241m=\u001b[39m \u001b[38;5;124m\"\u001b[39m\u001b[38;5;124mКомерческая недвижимость\u001b[39m\u001b[38;5;124m\"\u001b[39m\n\u001b[1;32m     30\u001b[0m \u001b[38;5;28;01mfor\u001b[39;00m link \u001b[38;5;129;01min\u001b[39;00m tqdm(links, ascii\u001b[38;5;241m=\u001b[39m\u001b[38;5;28;01mTrue\u001b[39;00m):\n\u001b[0;32m---> 31\u001b[0m     html \u001b[38;5;241m=\u001b[39m \u001b[43mrequests\u001b[49m\u001b[38;5;241;43m.\u001b[39;49m\u001b[43mget\u001b[49m\u001b[43m(\u001b[49m\u001b[43mlink\u001b[49m\u001b[43m)\u001b[49m\n\u001b[1;32m     32\u001b[0m     soup \u001b[38;5;241m=\u001b[39m bs(html\u001b[38;5;241m.\u001b[39mtext, \u001b[38;5;124m'\u001b[39m\u001b[38;5;124mhtml.parser\u001b[39m\u001b[38;5;124m'\u001b[39m)\n\u001b[1;32m     33\u001b[0m     tmp \u001b[38;5;241m=\u001b[39m {} \u001b[38;5;66;03m# словарь для временных данных\u001b[39;00m\n",
      "File \u001b[0;32m/Library/Frameworks/Python.framework/Versions/3.12/lib/python3.12/site-packages/requests/api.py:73\u001b[0m, in \u001b[0;36mget\u001b[0;34m(url, params, **kwargs)\u001b[0m\n\u001b[1;32m     62\u001b[0m \u001b[38;5;28;01mdef\u001b[39;00m \u001b[38;5;21mget\u001b[39m(url, params\u001b[38;5;241m=\u001b[39m\u001b[38;5;28;01mNone\u001b[39;00m, \u001b[38;5;241m*\u001b[39m\u001b[38;5;241m*\u001b[39mkwargs):\n\u001b[1;32m     63\u001b[0m \u001b[38;5;250m    \u001b[39m\u001b[38;5;124mr\u001b[39m\u001b[38;5;124;03m\"\"\"Sends a GET request.\u001b[39;00m\n\u001b[1;32m     64\u001b[0m \n\u001b[1;32m     65\u001b[0m \u001b[38;5;124;03m    :param url: URL for the new :class:`Request` object.\u001b[39;00m\n\u001b[0;32m   (...)\u001b[0m\n\u001b[1;32m     70\u001b[0m \u001b[38;5;124;03m    :rtype: requests.Response\u001b[39;00m\n\u001b[1;32m     71\u001b[0m \u001b[38;5;124;03m    \"\"\"\u001b[39;00m\n\u001b[0;32m---> 73\u001b[0m     \u001b[38;5;28;01mreturn\u001b[39;00m \u001b[43mrequest\u001b[49m\u001b[43m(\u001b[49m\u001b[38;5;124;43m\"\u001b[39;49m\u001b[38;5;124;43mget\u001b[39;49m\u001b[38;5;124;43m\"\u001b[39;49m\u001b[43m,\u001b[49m\u001b[43m \u001b[49m\u001b[43murl\u001b[49m\u001b[43m,\u001b[49m\u001b[43m \u001b[49m\u001b[43mparams\u001b[49m\u001b[38;5;241;43m=\u001b[39;49m\u001b[43mparams\u001b[49m\u001b[43m,\u001b[49m\u001b[43m \u001b[49m\u001b[38;5;241;43m*\u001b[39;49m\u001b[38;5;241;43m*\u001b[39;49m\u001b[43mkwargs\u001b[49m\u001b[43m)\u001b[49m\n",
      "File \u001b[0;32m/Library/Frameworks/Python.framework/Versions/3.12/lib/python3.12/site-packages/requests/api.py:59\u001b[0m, in \u001b[0;36mrequest\u001b[0;34m(method, url, **kwargs)\u001b[0m\n\u001b[1;32m     55\u001b[0m \u001b[38;5;66;03m# By using the 'with' statement we are sure the session is closed, thus we\u001b[39;00m\n\u001b[1;32m     56\u001b[0m \u001b[38;5;66;03m# avoid leaving sockets open which can trigger a ResourceWarning in some\u001b[39;00m\n\u001b[1;32m     57\u001b[0m \u001b[38;5;66;03m# cases, and look like a memory leak in others.\u001b[39;00m\n\u001b[1;32m     58\u001b[0m \u001b[38;5;28;01mwith\u001b[39;00m sessions\u001b[38;5;241m.\u001b[39mSession() \u001b[38;5;28;01mas\u001b[39;00m session:\n\u001b[0;32m---> 59\u001b[0m     \u001b[38;5;28;01mreturn\u001b[39;00m \u001b[43msession\u001b[49m\u001b[38;5;241;43m.\u001b[39;49m\u001b[43mrequest\u001b[49m\u001b[43m(\u001b[49m\u001b[43mmethod\u001b[49m\u001b[38;5;241;43m=\u001b[39;49m\u001b[43mmethod\u001b[49m\u001b[43m,\u001b[49m\u001b[43m \u001b[49m\u001b[43murl\u001b[49m\u001b[38;5;241;43m=\u001b[39;49m\u001b[43murl\u001b[49m\u001b[43m,\u001b[49m\u001b[43m \u001b[49m\u001b[38;5;241;43m*\u001b[39;49m\u001b[38;5;241;43m*\u001b[39;49m\u001b[43mkwargs\u001b[49m\u001b[43m)\u001b[49m\n",
      "File \u001b[0;32m/Library/Frameworks/Python.framework/Versions/3.12/lib/python3.12/site-packages/requests/sessions.py:589\u001b[0m, in \u001b[0;36mSession.request\u001b[0;34m(self, method, url, params, data, headers, cookies, files, auth, timeout, allow_redirects, proxies, hooks, stream, verify, cert, json)\u001b[0m\n\u001b[1;32m    584\u001b[0m send_kwargs \u001b[38;5;241m=\u001b[39m {\n\u001b[1;32m    585\u001b[0m     \u001b[38;5;124m\"\u001b[39m\u001b[38;5;124mtimeout\u001b[39m\u001b[38;5;124m\"\u001b[39m: timeout,\n\u001b[1;32m    586\u001b[0m     \u001b[38;5;124m\"\u001b[39m\u001b[38;5;124mallow_redirects\u001b[39m\u001b[38;5;124m\"\u001b[39m: allow_redirects,\n\u001b[1;32m    587\u001b[0m }\n\u001b[1;32m    588\u001b[0m send_kwargs\u001b[38;5;241m.\u001b[39mupdate(settings)\n\u001b[0;32m--> 589\u001b[0m resp \u001b[38;5;241m=\u001b[39m \u001b[38;5;28;43mself\u001b[39;49m\u001b[38;5;241;43m.\u001b[39;49m\u001b[43msend\u001b[49m\u001b[43m(\u001b[49m\u001b[43mprep\u001b[49m\u001b[43m,\u001b[49m\u001b[43m \u001b[49m\u001b[38;5;241;43m*\u001b[39;49m\u001b[38;5;241;43m*\u001b[39;49m\u001b[43msend_kwargs\u001b[49m\u001b[43m)\u001b[49m\n\u001b[1;32m    591\u001b[0m \u001b[38;5;28;01mreturn\u001b[39;00m resp\n",
      "File \u001b[0;32m/Library/Frameworks/Python.framework/Versions/3.12/lib/python3.12/site-packages/requests/sessions.py:703\u001b[0m, in \u001b[0;36mSession.send\u001b[0;34m(self, request, **kwargs)\u001b[0m\n\u001b[1;32m    700\u001b[0m start \u001b[38;5;241m=\u001b[39m preferred_clock()\n\u001b[1;32m    702\u001b[0m \u001b[38;5;66;03m# Send the request\u001b[39;00m\n\u001b[0;32m--> 703\u001b[0m r \u001b[38;5;241m=\u001b[39m \u001b[43madapter\u001b[49m\u001b[38;5;241;43m.\u001b[39;49m\u001b[43msend\u001b[49m\u001b[43m(\u001b[49m\u001b[43mrequest\u001b[49m\u001b[43m,\u001b[49m\u001b[43m \u001b[49m\u001b[38;5;241;43m*\u001b[39;49m\u001b[38;5;241;43m*\u001b[39;49m\u001b[43mkwargs\u001b[49m\u001b[43m)\u001b[49m\n\u001b[1;32m    705\u001b[0m \u001b[38;5;66;03m# Total elapsed time of the request (approximately)\u001b[39;00m\n\u001b[1;32m    706\u001b[0m elapsed \u001b[38;5;241m=\u001b[39m preferred_clock() \u001b[38;5;241m-\u001b[39m start\n",
      "File \u001b[0;32m/Library/Frameworks/Python.framework/Versions/3.12/lib/python3.12/site-packages/requests/adapters.py:486\u001b[0m, in \u001b[0;36mHTTPAdapter.send\u001b[0;34m(self, request, stream, timeout, verify, cert, proxies)\u001b[0m\n\u001b[1;32m    483\u001b[0m     timeout \u001b[38;5;241m=\u001b[39m TimeoutSauce(connect\u001b[38;5;241m=\u001b[39mtimeout, read\u001b[38;5;241m=\u001b[39mtimeout)\n\u001b[1;32m    485\u001b[0m \u001b[38;5;28;01mtry\u001b[39;00m:\n\u001b[0;32m--> 486\u001b[0m     resp \u001b[38;5;241m=\u001b[39m \u001b[43mconn\u001b[49m\u001b[38;5;241;43m.\u001b[39;49m\u001b[43murlopen\u001b[49m\u001b[43m(\u001b[49m\n\u001b[1;32m    487\u001b[0m \u001b[43m        \u001b[49m\u001b[43mmethod\u001b[49m\u001b[38;5;241;43m=\u001b[39;49m\u001b[43mrequest\u001b[49m\u001b[38;5;241;43m.\u001b[39;49m\u001b[43mmethod\u001b[49m\u001b[43m,\u001b[49m\n\u001b[1;32m    488\u001b[0m \u001b[43m        \u001b[49m\u001b[43murl\u001b[49m\u001b[38;5;241;43m=\u001b[39;49m\u001b[43murl\u001b[49m\u001b[43m,\u001b[49m\n\u001b[1;32m    489\u001b[0m \u001b[43m        \u001b[49m\u001b[43mbody\u001b[49m\u001b[38;5;241;43m=\u001b[39;49m\u001b[43mrequest\u001b[49m\u001b[38;5;241;43m.\u001b[39;49m\u001b[43mbody\u001b[49m\u001b[43m,\u001b[49m\n\u001b[1;32m    490\u001b[0m \u001b[43m        \u001b[49m\u001b[43mheaders\u001b[49m\u001b[38;5;241;43m=\u001b[39;49m\u001b[43mrequest\u001b[49m\u001b[38;5;241;43m.\u001b[39;49m\u001b[43mheaders\u001b[49m\u001b[43m,\u001b[49m\n\u001b[1;32m    491\u001b[0m \u001b[43m        \u001b[49m\u001b[43mredirect\u001b[49m\u001b[38;5;241;43m=\u001b[39;49m\u001b[38;5;28;43;01mFalse\u001b[39;49;00m\u001b[43m,\u001b[49m\n\u001b[1;32m    492\u001b[0m \u001b[43m        \u001b[49m\u001b[43massert_same_host\u001b[49m\u001b[38;5;241;43m=\u001b[39;49m\u001b[38;5;28;43;01mFalse\u001b[39;49;00m\u001b[43m,\u001b[49m\n\u001b[1;32m    493\u001b[0m \u001b[43m        \u001b[49m\u001b[43mpreload_content\u001b[49m\u001b[38;5;241;43m=\u001b[39;49m\u001b[38;5;28;43;01mFalse\u001b[39;49;00m\u001b[43m,\u001b[49m\n\u001b[1;32m    494\u001b[0m \u001b[43m        \u001b[49m\u001b[43mdecode_content\u001b[49m\u001b[38;5;241;43m=\u001b[39;49m\u001b[38;5;28;43;01mFalse\u001b[39;49;00m\u001b[43m,\u001b[49m\n\u001b[1;32m    495\u001b[0m \u001b[43m        \u001b[49m\u001b[43mretries\u001b[49m\u001b[38;5;241;43m=\u001b[39;49m\u001b[38;5;28;43mself\u001b[39;49m\u001b[38;5;241;43m.\u001b[39;49m\u001b[43mmax_retries\u001b[49m\u001b[43m,\u001b[49m\n\u001b[1;32m    496\u001b[0m \u001b[43m        \u001b[49m\u001b[43mtimeout\u001b[49m\u001b[38;5;241;43m=\u001b[39;49m\u001b[43mtimeout\u001b[49m\u001b[43m,\u001b[49m\n\u001b[1;32m    497\u001b[0m \u001b[43m        \u001b[49m\u001b[43mchunked\u001b[49m\u001b[38;5;241;43m=\u001b[39;49m\u001b[43mchunked\u001b[49m\u001b[43m,\u001b[49m\n\u001b[1;32m    498\u001b[0m \u001b[43m    \u001b[49m\u001b[43m)\u001b[49m\n\u001b[1;32m    500\u001b[0m \u001b[38;5;28;01mexcept\u001b[39;00m (ProtocolError, \u001b[38;5;167;01mOSError\u001b[39;00m) \u001b[38;5;28;01mas\u001b[39;00m err:\n\u001b[1;32m    501\u001b[0m     \u001b[38;5;28;01mraise\u001b[39;00m \u001b[38;5;167;01mConnectionError\u001b[39;00m(err, request\u001b[38;5;241m=\u001b[39mrequest)\n",
      "File \u001b[0;32m/Library/Frameworks/Python.framework/Versions/3.12/lib/python3.12/site-packages/urllib3/connectionpool.py:790\u001b[0m, in \u001b[0;36mHTTPConnectionPool.urlopen\u001b[0;34m(self, method, url, body, headers, retries, redirect, assert_same_host, timeout, pool_timeout, release_conn, chunked, body_pos, preload_content, decode_content, **response_kw)\u001b[0m\n\u001b[1;32m    787\u001b[0m response_conn \u001b[38;5;241m=\u001b[39m conn \u001b[38;5;28;01mif\u001b[39;00m \u001b[38;5;129;01mnot\u001b[39;00m release_conn \u001b[38;5;28;01melse\u001b[39;00m \u001b[38;5;28;01mNone\u001b[39;00m\n\u001b[1;32m    789\u001b[0m \u001b[38;5;66;03m# Make the request on the HTTPConnection object\u001b[39;00m\n\u001b[0;32m--> 790\u001b[0m response \u001b[38;5;241m=\u001b[39m \u001b[38;5;28;43mself\u001b[39;49m\u001b[38;5;241;43m.\u001b[39;49m\u001b[43m_make_request\u001b[49m\u001b[43m(\u001b[49m\n\u001b[1;32m    791\u001b[0m \u001b[43m    \u001b[49m\u001b[43mconn\u001b[49m\u001b[43m,\u001b[49m\n\u001b[1;32m    792\u001b[0m \u001b[43m    \u001b[49m\u001b[43mmethod\u001b[49m\u001b[43m,\u001b[49m\n\u001b[1;32m    793\u001b[0m \u001b[43m    \u001b[49m\u001b[43murl\u001b[49m\u001b[43m,\u001b[49m\n\u001b[1;32m    794\u001b[0m \u001b[43m    \u001b[49m\u001b[43mtimeout\u001b[49m\u001b[38;5;241;43m=\u001b[39;49m\u001b[43mtimeout_obj\u001b[49m\u001b[43m,\u001b[49m\n\u001b[1;32m    795\u001b[0m \u001b[43m    \u001b[49m\u001b[43mbody\u001b[49m\u001b[38;5;241;43m=\u001b[39;49m\u001b[43mbody\u001b[49m\u001b[43m,\u001b[49m\n\u001b[1;32m    796\u001b[0m \u001b[43m    \u001b[49m\u001b[43mheaders\u001b[49m\u001b[38;5;241;43m=\u001b[39;49m\u001b[43mheaders\u001b[49m\u001b[43m,\u001b[49m\n\u001b[1;32m    797\u001b[0m \u001b[43m    \u001b[49m\u001b[43mchunked\u001b[49m\u001b[38;5;241;43m=\u001b[39;49m\u001b[43mchunked\u001b[49m\u001b[43m,\u001b[49m\n\u001b[1;32m    798\u001b[0m \u001b[43m    \u001b[49m\u001b[43mretries\u001b[49m\u001b[38;5;241;43m=\u001b[39;49m\u001b[43mretries\u001b[49m\u001b[43m,\u001b[49m\n\u001b[1;32m    799\u001b[0m \u001b[43m    \u001b[49m\u001b[43mresponse_conn\u001b[49m\u001b[38;5;241;43m=\u001b[39;49m\u001b[43mresponse_conn\u001b[49m\u001b[43m,\u001b[49m\n\u001b[1;32m    800\u001b[0m \u001b[43m    \u001b[49m\u001b[43mpreload_content\u001b[49m\u001b[38;5;241;43m=\u001b[39;49m\u001b[43mpreload_content\u001b[49m\u001b[43m,\u001b[49m\n\u001b[1;32m    801\u001b[0m \u001b[43m    \u001b[49m\u001b[43mdecode_content\u001b[49m\u001b[38;5;241;43m=\u001b[39;49m\u001b[43mdecode_content\u001b[49m\u001b[43m,\u001b[49m\n\u001b[1;32m    802\u001b[0m \u001b[43m    \u001b[49m\u001b[38;5;241;43m*\u001b[39;49m\u001b[38;5;241;43m*\u001b[39;49m\u001b[43mresponse_kw\u001b[49m\u001b[43m,\u001b[49m\n\u001b[1;32m    803\u001b[0m \u001b[43m\u001b[49m\u001b[43m)\u001b[49m\n\u001b[1;32m    805\u001b[0m \u001b[38;5;66;03m# Everything went great!\u001b[39;00m\n\u001b[1;32m    806\u001b[0m clean_exit \u001b[38;5;241m=\u001b[39m \u001b[38;5;28;01mTrue\u001b[39;00m\n",
      "File \u001b[0;32m/Library/Frameworks/Python.framework/Versions/3.12/lib/python3.12/site-packages/urllib3/connectionpool.py:536\u001b[0m, in \u001b[0;36mHTTPConnectionPool._make_request\u001b[0;34m(self, conn, method, url, body, headers, retries, timeout, chunked, response_conn, preload_content, decode_content, enforce_content_length)\u001b[0m\n\u001b[1;32m    534\u001b[0m \u001b[38;5;66;03m# Receive the response from the server\u001b[39;00m\n\u001b[1;32m    535\u001b[0m \u001b[38;5;28;01mtry\u001b[39;00m:\n\u001b[0;32m--> 536\u001b[0m     response \u001b[38;5;241m=\u001b[39m \u001b[43mconn\u001b[49m\u001b[38;5;241;43m.\u001b[39;49m\u001b[43mgetresponse\u001b[49m\u001b[43m(\u001b[49m\u001b[43m)\u001b[49m\n\u001b[1;32m    537\u001b[0m \u001b[38;5;28;01mexcept\u001b[39;00m (BaseSSLError, \u001b[38;5;167;01mOSError\u001b[39;00m) \u001b[38;5;28;01mas\u001b[39;00m e:\n\u001b[1;32m    538\u001b[0m     \u001b[38;5;28mself\u001b[39m\u001b[38;5;241m.\u001b[39m_raise_timeout(err\u001b[38;5;241m=\u001b[39me, url\u001b[38;5;241m=\u001b[39murl, timeout_value\u001b[38;5;241m=\u001b[39mread_timeout)\n",
      "File \u001b[0;32m/Library/Frameworks/Python.framework/Versions/3.12/lib/python3.12/site-packages/urllib3/connection.py:461\u001b[0m, in \u001b[0;36mHTTPConnection.getresponse\u001b[0;34m(self)\u001b[0m\n\u001b[1;32m    458\u001b[0m \u001b[38;5;28;01mfrom\u001b[39;00m \u001b[38;5;21;01m.\u001b[39;00m\u001b[38;5;21;01mresponse\u001b[39;00m \u001b[38;5;28;01mimport\u001b[39;00m HTTPResponse\n\u001b[1;32m    460\u001b[0m \u001b[38;5;66;03m# Get the response from http.client.HTTPConnection\u001b[39;00m\n\u001b[0;32m--> 461\u001b[0m httplib_response \u001b[38;5;241m=\u001b[39m \u001b[38;5;28;43msuper\u001b[39;49m\u001b[43m(\u001b[49m\u001b[43m)\u001b[49m\u001b[38;5;241;43m.\u001b[39;49m\u001b[43mgetresponse\u001b[49m\u001b[43m(\u001b[49m\u001b[43m)\u001b[49m\n\u001b[1;32m    463\u001b[0m \u001b[38;5;28;01mtry\u001b[39;00m:\n\u001b[1;32m    464\u001b[0m     assert_header_parsing(httplib_response\u001b[38;5;241m.\u001b[39mmsg)\n",
      "File \u001b[0;32m/Library/Frameworks/Python.framework/Versions/3.12/lib/python3.12/http/client.py:1419\u001b[0m, in \u001b[0;36mHTTPConnection.getresponse\u001b[0;34m(self)\u001b[0m\n\u001b[1;32m   1417\u001b[0m \u001b[38;5;28;01mtry\u001b[39;00m:\n\u001b[1;32m   1418\u001b[0m     \u001b[38;5;28;01mtry\u001b[39;00m:\n\u001b[0;32m-> 1419\u001b[0m         \u001b[43mresponse\u001b[49m\u001b[38;5;241;43m.\u001b[39;49m\u001b[43mbegin\u001b[49m\u001b[43m(\u001b[49m\u001b[43m)\u001b[49m\n\u001b[1;32m   1420\u001b[0m     \u001b[38;5;28;01mexcept\u001b[39;00m \u001b[38;5;167;01mConnectionError\u001b[39;00m:\n\u001b[1;32m   1421\u001b[0m         \u001b[38;5;28mself\u001b[39m\u001b[38;5;241m.\u001b[39mclose()\n",
      "File \u001b[0;32m/Library/Frameworks/Python.framework/Versions/3.12/lib/python3.12/http/client.py:331\u001b[0m, in \u001b[0;36mHTTPResponse.begin\u001b[0;34m(self)\u001b[0m\n\u001b[1;32m    329\u001b[0m \u001b[38;5;66;03m# read until we get a non-100 response\u001b[39;00m\n\u001b[1;32m    330\u001b[0m \u001b[38;5;28;01mwhile\u001b[39;00m \u001b[38;5;28;01mTrue\u001b[39;00m:\n\u001b[0;32m--> 331\u001b[0m     version, status, reason \u001b[38;5;241m=\u001b[39m \u001b[38;5;28;43mself\u001b[39;49m\u001b[38;5;241;43m.\u001b[39;49m\u001b[43m_read_status\u001b[49m\u001b[43m(\u001b[49m\u001b[43m)\u001b[49m\n\u001b[1;32m    332\u001b[0m     \u001b[38;5;28;01mif\u001b[39;00m status \u001b[38;5;241m!=\u001b[39m CONTINUE:\n\u001b[1;32m    333\u001b[0m         \u001b[38;5;28;01mbreak\u001b[39;00m\n",
      "File \u001b[0;32m/Library/Frameworks/Python.framework/Versions/3.12/lib/python3.12/http/client.py:292\u001b[0m, in \u001b[0;36mHTTPResponse._read_status\u001b[0;34m(self)\u001b[0m\n\u001b[1;32m    291\u001b[0m \u001b[38;5;28;01mdef\u001b[39;00m \u001b[38;5;21m_read_status\u001b[39m(\u001b[38;5;28mself\u001b[39m):\n\u001b[0;32m--> 292\u001b[0m     line \u001b[38;5;241m=\u001b[39m \u001b[38;5;28mstr\u001b[39m(\u001b[38;5;28;43mself\u001b[39;49m\u001b[38;5;241;43m.\u001b[39;49m\u001b[43mfp\u001b[49m\u001b[38;5;241;43m.\u001b[39;49m\u001b[43mreadline\u001b[49m\u001b[43m(\u001b[49m\u001b[43m_MAXLINE\u001b[49m\u001b[43m \u001b[49m\u001b[38;5;241;43m+\u001b[39;49m\u001b[43m \u001b[49m\u001b[38;5;241;43m1\u001b[39;49m\u001b[43m)\u001b[49m, \u001b[38;5;124m\"\u001b[39m\u001b[38;5;124miso-8859-1\u001b[39m\u001b[38;5;124m\"\u001b[39m)\n\u001b[1;32m    293\u001b[0m     \u001b[38;5;28;01mif\u001b[39;00m \u001b[38;5;28mlen\u001b[39m(line) \u001b[38;5;241m>\u001b[39m _MAXLINE:\n\u001b[1;32m    294\u001b[0m         \u001b[38;5;28;01mraise\u001b[39;00m LineTooLong(\u001b[38;5;124m\"\u001b[39m\u001b[38;5;124mstatus line\u001b[39m\u001b[38;5;124m\"\u001b[39m)\n",
      "File \u001b[0;32m/Library/Frameworks/Python.framework/Versions/3.12/lib/python3.12/socket.py:707\u001b[0m, in \u001b[0;36mSocketIO.readinto\u001b[0;34m(self, b)\u001b[0m\n\u001b[1;32m    705\u001b[0m \u001b[38;5;28;01mwhile\u001b[39;00m \u001b[38;5;28;01mTrue\u001b[39;00m:\n\u001b[1;32m    706\u001b[0m     \u001b[38;5;28;01mtry\u001b[39;00m:\n\u001b[0;32m--> 707\u001b[0m         \u001b[38;5;28;01mreturn\u001b[39;00m \u001b[38;5;28;43mself\u001b[39;49m\u001b[38;5;241;43m.\u001b[39;49m\u001b[43m_sock\u001b[49m\u001b[38;5;241;43m.\u001b[39;49m\u001b[43mrecv_into\u001b[49m\u001b[43m(\u001b[49m\u001b[43mb\u001b[49m\u001b[43m)\u001b[49m\n\u001b[1;32m    708\u001b[0m     \u001b[38;5;28;01mexcept\u001b[39;00m timeout:\n\u001b[1;32m    709\u001b[0m         \u001b[38;5;28mself\u001b[39m\u001b[38;5;241m.\u001b[39m_timeout_occurred \u001b[38;5;241m=\u001b[39m \u001b[38;5;28;01mTrue\u001b[39;00m\n",
      "File \u001b[0;32m/Library/Frameworks/Python.framework/Versions/3.12/lib/python3.12/ssl.py:1253\u001b[0m, in \u001b[0;36mSSLSocket.recv_into\u001b[0;34m(self, buffer, nbytes, flags)\u001b[0m\n\u001b[1;32m   1249\u001b[0m     \u001b[38;5;28;01mif\u001b[39;00m flags \u001b[38;5;241m!=\u001b[39m \u001b[38;5;241m0\u001b[39m:\n\u001b[1;32m   1250\u001b[0m         \u001b[38;5;28;01mraise\u001b[39;00m \u001b[38;5;167;01mValueError\u001b[39;00m(\n\u001b[1;32m   1251\u001b[0m           \u001b[38;5;124m\"\u001b[39m\u001b[38;5;124mnon-zero flags not allowed in calls to recv_into() on \u001b[39m\u001b[38;5;132;01m%s\u001b[39;00m\u001b[38;5;124m\"\u001b[39m \u001b[38;5;241m%\u001b[39m\n\u001b[1;32m   1252\u001b[0m           \u001b[38;5;28mself\u001b[39m\u001b[38;5;241m.\u001b[39m\u001b[38;5;18m__class__\u001b[39m)\n\u001b[0;32m-> 1253\u001b[0m     \u001b[38;5;28;01mreturn\u001b[39;00m \u001b[38;5;28;43mself\u001b[39;49m\u001b[38;5;241;43m.\u001b[39;49m\u001b[43mread\u001b[49m\u001b[43m(\u001b[49m\u001b[43mnbytes\u001b[49m\u001b[43m,\u001b[49m\u001b[43m \u001b[49m\u001b[43mbuffer\u001b[49m\u001b[43m)\u001b[49m\n\u001b[1;32m   1254\u001b[0m \u001b[38;5;28;01melse\u001b[39;00m:\n\u001b[1;32m   1255\u001b[0m     \u001b[38;5;28;01mreturn\u001b[39;00m \u001b[38;5;28msuper\u001b[39m()\u001b[38;5;241m.\u001b[39mrecv_into(buffer, nbytes, flags)\n",
      "File \u001b[0;32m/Library/Frameworks/Python.framework/Versions/3.12/lib/python3.12/ssl.py:1105\u001b[0m, in \u001b[0;36mSSLSocket.read\u001b[0;34m(self, len, buffer)\u001b[0m\n\u001b[1;32m   1103\u001b[0m \u001b[38;5;28;01mtry\u001b[39;00m:\n\u001b[1;32m   1104\u001b[0m     \u001b[38;5;28;01mif\u001b[39;00m buffer \u001b[38;5;129;01mis\u001b[39;00m \u001b[38;5;129;01mnot\u001b[39;00m \u001b[38;5;28;01mNone\u001b[39;00m:\n\u001b[0;32m-> 1105\u001b[0m         \u001b[38;5;28;01mreturn\u001b[39;00m \u001b[38;5;28;43mself\u001b[39;49m\u001b[38;5;241;43m.\u001b[39;49m\u001b[43m_sslobj\u001b[49m\u001b[38;5;241;43m.\u001b[39;49m\u001b[43mread\u001b[49m\u001b[43m(\u001b[49m\u001b[38;5;28;43mlen\u001b[39;49m\u001b[43m,\u001b[49m\u001b[43m \u001b[49m\u001b[43mbuffer\u001b[49m\u001b[43m)\u001b[49m\n\u001b[1;32m   1106\u001b[0m     \u001b[38;5;28;01melse\u001b[39;00m:\n\u001b[1;32m   1107\u001b[0m         \u001b[38;5;28;01mreturn\u001b[39;00m \u001b[38;5;28mself\u001b[39m\u001b[38;5;241m.\u001b[39m_sslobj\u001b[38;5;241m.\u001b[39mread(\u001b[38;5;28mlen\u001b[39m)\n",
      "\u001b[0;31mKeyboardInterrupt\u001b[0m: "
     ]
    }
   ],
   "source": [
    "tmp_df = parse(links, deal, tip)\n",
    "dataframe = pandas.concat([dataframe, tmp_df], axis=0)\n",
    "conn = sqlite3.connect(f'DF_{date.today()}.db')\n",
    "dataframe.to_sql(f'{tip}', conn, if_exists='replace')\n",
    "conn.close()"
   ]
  },
  {
   "cell_type": "code",
   "execution_count": null,
   "metadata": {},
   "outputs": [],
   "source": [
    "# df = pandas.DataFrame()\n",
    "# for deal in ['arenda', 'prodazha']:\n",
    "#     for tip in ['kvartir', 'domov', 'ofisov', 'skladov', 'zdaniy', 'pomesheniy', 'torgovych-ploshadey']:\n",
    "#         LINK = GLOBAL_PART + deal + '-' + tip + FIFTY_ON_PAGE_PART\n",
    "#         print(deal + '-' + tip)\n",
    "#         page_count = page_counter(LINK)\n",
    "#         links = links_arr(LINK, page_count)\n",
    "#         all_links += links\n",
    "\n",
    "#         tmp_df = parse(links, deal, tip)\n",
    "#         df = pandas.concat([df, tmp_df], axis=0)\n",
    "#     conn = sqlite3.connect(f'{date.today()}.db')\n",
    "#     df.to_sql(f'DF_{date.today()}_{tip}_{deal}', conn, if_exists='replace')\n",
    "#     conn.close()"
   ]
  }
 ],
 "metadata": {
  "kernelspec": {
   "display_name": "Python 3",
   "language": "python",
   "name": "python3"
  },
  "language_info": {
   "codemirror_mode": {
    "name": "ipython",
    "version": 3
   },
   "file_extension": ".py",
   "mimetype": "text/x-python",
   "name": "python",
   "nbconvert_exporter": "python",
   "pygments_lexer": "ipython3",
   "version": "3.12.1"
  }
 },
 "nbformat": 4,
 "nbformat_minor": 2
}
